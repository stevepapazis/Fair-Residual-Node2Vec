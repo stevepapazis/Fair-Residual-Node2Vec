{
 "cells": [
  {
   "cell_type": "markdown",
   "metadata": {},
   "source": [
    "### Generating the node2vec embeddings"
   ]
  },
  {
   "cell_type": "code",
   "execution_count": 23,
   "metadata": {},
   "outputs": [],
   "source": [
    "# # uncomment to regenerate the embeddings\n",
    "# %%bash\n",
    "# cd ./node2vec/\n",
    "# make all\n",
    "# ./node2vec -v -i:../graphs/fb_edges.txt -o:../embeddings/fb_node2vec.emb"
   ]
  },
  {
   "cell_type": "markdown",
   "metadata": {},
   "source": [
    "### Generating the fairwalk embeddings"
   ]
  },
  {
   "cell_type": "code",
   "execution_count": 24,
   "metadata": {},
   "outputs": [],
   "source": [
    "# # uncomment to regenerate the embeddings\n",
    "# %%bash\n",
    "# python3 ./fairwalk/Code/main.py"
   ]
  },
  {
   "cell_type": "markdown",
   "metadata": {},
   "source": [
    "### Generating the residual fair node2vec embeddings"
   ]
  },
  {
   "cell_type": "code",
   "execution_count": 25,
   "metadata": {},
   "outputs": [],
   "source": [
    "# # uncomment to regenerate the embeddings\n",
    "# %%bash\n",
    "# cd ./fn2v/\n",
    "# make fair_node2vec\n",
    "# ./fair_node2vec -v -i:../graphs/fb_edges.txt -iattr: ../graphs/fb_genders -oe:../embeddings/fb_fn2v_embs.txt"
   ]
  },
  {
   "cell_type": "markdown",
   "metadata": {},
   "source": [
    "### Training the link recommendation models "
   ]
  },
  {
   "cell_type": "code",
   "execution_count": 26,
   "metadata": {},
   "outputs": [],
   "source": [
    "import numpy as np\n",
    "\n",
    "import matplotlib.pyplot as plt\n",
    "\n",
    "import pathlib\n",
    "\n",
    "import pickle\n",
    "\n",
    "from sklearn.ensemble import RandomForestClassifier\n",
    "from sklearn.model_selection import train_test_split\n",
    "from sklearn.metrics import classification_report, RocCurveDisplay\n",
    "from sklearn.metrics.pairwise import cosine_similarity\n",
    "\n",
    "rng = np.random.default_rng(seed=0)"
   ]
  },
  {
   "cell_type": "code",
   "execution_count": 27,
   "metadata": {},
   "outputs": [],
   "source": [
    "nodes = 4039\n",
    "\n",
    "edges = np.loadtxt(\"./graphs/fb_edges.txt\", dtype=int, skiprows=1)\n",
    "\n",
    "sample_size = len(edges)\n",
    "\n",
    "pairs_without_edges = np.ones((nodes, nodes))\n",
    "pairs_without_edges[np.diag_indices(nodes)] = 0\n",
    "pairs_without_edges[edges[:,0], edges[:,1]] = 0\n",
    "pairs_without_edges[edges[:,1], edges[:,0]] = 0\n",
    "pairs_without_edges[np.tril_indices(nodes, k=0, m=nodes)] = 0\n",
    "pairs_without_edges = np.array(np.nonzero(pairs_without_edges)).T\n",
    "pairs_without_edges = rng.choice(pairs_without_edges, sample_size, replace=False, shuffle=False)\n",
    "\n",
    "node_pairs = np.vstack([edges, edges[:,::-1], pairs_without_edges, pairs_without_edges[:,::-1]])\n",
    "y = np.hstack([np.ones(2*sample_size), np.zeros(2*sample_size)])\n",
    "\n",
    "pairs_train, pairs_test, y_train, y_test = train_test_split(node_pairs, y, test_size=0.2, random_state=0)"
   ]
  },
  {
   "cell_type": "code",
   "execution_count": 28,
   "metadata": {},
   "outputs": [],
   "source": [
    "node2vec_node_embeddings = np.sort(np.loadtxt(\"./embeddings/fb_node2vec.emb\", skiprows=1), axis=0)[:,1:]\n",
    "\n",
    "fairwalk_node_embeddings = np.zeros((nodes, 128))\n",
    "for file_path in pathlib.Path(\"./fairwalk/Embeddings/\").iterdir():\n",
    "    tmp = np.loadtxt(file_path, skiprows=1)\n",
    "    for row in tmp:\n",
    "        fairwalk_node_embeddings[int(row[0])] = row[1:]\n",
    "    \n",
    "fn2v_node_embeddings = np.sort(np.loadtxt(\"./embeddings/fb_fn2v_embs.txt\", skiprows=1), axis=0)[:,1:]"
   ]
  },
  {
   "cell_type": "code",
   "execution_count": 29,
   "metadata": {},
   "outputs": [],
   "source": [
    "def hadamard_embeddings(node_embeddings, node_pairs):\n",
    "    return node_embeddings[node_pairs[:,0]]*node_embeddings[node_pairs[:,1]]"
   ]
  },
  {
   "cell_type": "code",
   "execution_count": 30,
   "metadata": {},
   "outputs": [],
   "source": [
    "X_train_node2vec = hadamard_embeddings(node2vec_node_embeddings, pairs_train) \n",
    "X_test_node2vec  = hadamard_embeddings(node2vec_node_embeddings, pairs_test)\n",
    "\n",
    "X_train_fairwalk = hadamard_embeddings(fairwalk_node_embeddings, pairs_train)\n",
    "X_test_fairwalk  = hadamard_embeddings(fairwalk_node_embeddings, pairs_test)\n",
    "\n",
    "X_train_fn2v = hadamard_embeddings(fn2v_node_embeddings, pairs_train)\n",
    "X_test_fn2v  = hadamard_embeddings(fn2v_node_embeddings, pairs_test)"
   ]
  },
  {
   "cell_type": "code",
   "execution_count": 31,
   "metadata": {},
   "outputs": [
    {
     "name": "stderr",
     "output_type": "stream",
     "text": [
      "[Parallel(n_jobs=4)]: Using backend ThreadingBackend with 4 concurrent workers.\n",
      "[Parallel(n_jobs=4)]: Done  24 tasks      | elapsed:    0.3s\n",
      "[Parallel(n_jobs=4)]: Done 100 out of 100 | elapsed:    1.1s finished\n"
     ]
    },
    {
     "name": "stdout",
     "output_type": "stream",
     "text": [
      "\n",
      "The classification report on the train data\n",
      "               precision    recall  f1-score   support\n",
      "\n",
      "         0.0       0.94      0.67      0.78    141376\n",
      "         1.0       0.74      0.95      0.84    140972\n",
      "\n",
      "    accuracy                           0.81    282348\n",
      "   macro avg       0.84      0.81      0.81    282348\n",
      "weighted avg       0.84      0.81      0.81    282348\n",
      "\n"
     ]
    },
    {
     "name": "stderr",
     "output_type": "stream",
     "text": [
      "[Parallel(n_jobs=4)]: Using backend ThreadingBackend with 4 concurrent workers.\n",
      "[Parallel(n_jobs=4)]: Done  24 tasks      | elapsed:    0.1s\n"
     ]
    },
    {
     "name": "stdout",
     "output_type": "stream",
     "text": [
      "\n",
      "The classification report on the test data\n",
      "               precision    recall  f1-score   support\n",
      "\n",
      "         0.0       0.93      0.67      0.78     35092\n",
      "         1.0       0.74      0.95      0.84     35496\n",
      "\n",
      "    accuracy                           0.81     70588\n",
      "   macro avg       0.84      0.81      0.81     70588\n",
      "weighted avg       0.84      0.81      0.81     70588\n",
      "\n"
     ]
    },
    {
     "name": "stderr",
     "output_type": "stream",
     "text": [
      "[Parallel(n_jobs=4)]: Done 100 out of 100 | elapsed:    0.3s finished\n"
     ]
    }
   ],
   "source": [
    "rfc_node2vec_path= pathlib.Path(\"./models/rfc_node2vec_model.pkl\")\n",
    "\n",
    "\n",
    "if rfc_node2vec_path.exists():\n",
    "    \n",
    "    with open(rfc_node2vec_path, \"rb\") as file:\n",
    "        rfc_node2vec = pickle.load(file)\n",
    "        \n",
    "else:\n",
    "    \n",
    "    rfc_node2vec = RandomForestClassifier(max_depth=10, random_state=0, verbose=3, n_jobs=-1)\n",
    "    rfc_node2vec.fit(X_train_node2vec, y_train)\n",
    "    \n",
    "    with open(rfc_node2vec_path, \"wb\") as file:\n",
    "        pickle.dump(rfc_node2vec, file)\n",
    "\n",
    "\n",
    "print(\"\\nThe classification report on the train data\\n\", classification_report(y_train, rfc_node2vec.predict(X_train_node2vec)))\n",
    "print(\"\\nThe classification report on the test data\\n\",  classification_report(y_test,  rfc_node2vec.predict(X_test_node2vec)))"
   ]
  },
  {
   "cell_type": "code",
   "execution_count": 32,
   "metadata": {},
   "outputs": [
    {
     "name": "stderr",
     "output_type": "stream",
     "text": [
      "[Parallel(n_jobs=4)]: Using backend ThreadingBackend with 4 concurrent workers.\n",
      "[Parallel(n_jobs=4)]: Done  24 tasks      | elapsed:    0.3s\n",
      "[Parallel(n_jobs=4)]: Done 100 out of 100 | elapsed:    1.7s finished\n"
     ]
    },
    {
     "name": "stdout",
     "output_type": "stream",
     "text": [
      "\n",
      "The classification report on the train data\n",
      "               precision    recall  f1-score   support\n",
      "\n",
      "         0.0       0.92      0.94      0.93    141376\n",
      "         1.0       0.94      0.91      0.93    140972\n",
      "\n",
      "    accuracy                           0.93    282348\n",
      "   macro avg       0.93      0.93      0.93    282348\n",
      "weighted avg       0.93      0.93      0.93    282348\n",
      "\n"
     ]
    },
    {
     "name": "stderr",
     "output_type": "stream",
     "text": [
      "[Parallel(n_jobs=4)]: Using backend ThreadingBackend with 4 concurrent workers.\n",
      "[Parallel(n_jobs=4)]: Done  24 tasks      | elapsed:    0.1s\n"
     ]
    },
    {
     "name": "stdout",
     "output_type": "stream",
     "text": [
      "\n",
      "The classification report on the test data\n",
      "               precision    recall  f1-score   support\n",
      "\n",
      "         0.0       0.90      0.94      0.92     35092\n",
      "         1.0       0.93      0.90      0.91     35496\n",
      "\n",
      "    accuracy                           0.92     70588\n",
      "   macro avg       0.92      0.92      0.92     70588\n",
      "weighted avg       0.92      0.92      0.92     70588\n",
      "\n"
     ]
    },
    {
     "name": "stderr",
     "output_type": "stream",
     "text": [
      "[Parallel(n_jobs=4)]: Done 100 out of 100 | elapsed:    0.5s finished\n"
     ]
    }
   ],
   "source": [
    "rfc_fairwalk_path = pathlib.Path(\"./models/rfc_fairwalk_model.pkl\")\n",
    "\n",
    "\n",
    "if rfc_fairwalk_path.exists():\n",
    "    \n",
    "    with open(rfc_fairwalk_path, \"rb\") as file:\n",
    "        rfc_fairwalk = pickle.load(file)\n",
    "        \n",
    "else:\n",
    "    \n",
    "    rfc_fairwalk = RandomForestClassifier(max_depth=10, random_state=0, verbose=3, n_jobs=-1)\n",
    "    rfc_fairwalk.fit(X_train_fairwalk, y_train)\n",
    "    \n",
    "    with open(rfc_fairwalk_path, \"wb\") as file:\n",
    "        pickle.dump(rfc_fairwalk, file)\n",
    "\n",
    "\n",
    "print(\"\\nThe classification report on the train data\\n\", classification_report(y_train, rfc_fairwalk.predict(X_train_fairwalk)))\n",
    "print(\"\\nThe classification report on the test data\\n\",  classification_report(y_test,  rfc_fairwalk.predict(X_test_fairwalk)))"
   ]
  },
  {
   "cell_type": "code",
   "execution_count": 33,
   "metadata": {},
   "outputs": [
    {
     "name": "stderr",
     "output_type": "stream",
     "text": [
      "[Parallel(n_jobs=4)]: Using backend ThreadingBackend with 4 concurrent workers.\n",
      "[Parallel(n_jobs=4)]: Done  24 tasks      | elapsed:    0.3s\n",
      "[Parallel(n_jobs=4)]: Done 100 out of 100 | elapsed:    1.1s finished\n"
     ]
    },
    {
     "name": "stdout",
     "output_type": "stream",
     "text": [
      "\n",
      "The classification report on the train data\n",
      "               precision    recall  f1-score   support\n",
      "\n",
      "         0.0       0.98      0.81      0.89    141376\n",
      "         1.0       0.84      0.98      0.90    140972\n",
      "\n",
      "    accuracy                           0.90    282348\n",
      "   macro avg       0.91      0.90      0.89    282348\n",
      "weighted avg       0.91      0.90      0.89    282348\n",
      "\n"
     ]
    },
    {
     "name": "stderr",
     "output_type": "stream",
     "text": [
      "[Parallel(n_jobs=4)]: Using backend ThreadingBackend with 4 concurrent workers.\n",
      "[Parallel(n_jobs=4)]: Done  24 tasks      | elapsed:    0.1s\n"
     ]
    },
    {
     "name": "stdout",
     "output_type": "stream",
     "text": [
      "\n",
      "The classification report on the test data\n",
      "               precision    recall  f1-score   support\n",
      "\n",
      "         0.0       0.98      0.80      0.88     35092\n",
      "         1.0       0.83      0.98      0.90     35496\n",
      "\n",
      "    accuracy                           0.89     70588\n",
      "   macro avg       0.91      0.89      0.89     70588\n",
      "weighted avg       0.91      0.89      0.89     70588\n",
      "\n"
     ]
    },
    {
     "name": "stderr",
     "output_type": "stream",
     "text": [
      "[Parallel(n_jobs=4)]: Done 100 out of 100 | elapsed:    0.3s finished\n"
     ]
    }
   ],
   "source": [
    "rfc_fn2v_path= pathlib.Path(\"./models/rfc_fn2v_model.pkl\")\n",
    "\n",
    "\n",
    "if rfc_fn2v_path.exists():\n",
    "    \n",
    "    with open(rfc_fn2v_path, \"rb\") as file:\n",
    "        rfc_fn2v = pickle.load(file)\n",
    "        \n",
    "else:\n",
    "    \n",
    "    rfc_fn2v = RandomForestClassifier(max_depth=10, random_state=0, verbose=3, n_jobs=-1)\n",
    "    rfc_fn2v.fit(X_train_fn2v, y_train)\n",
    "    \n",
    "    with open(rfc_fn2v_path, \"wb\") as file:\n",
    "        pickle.dump(rfc_fn2v, file)\n",
    "\n",
    "\n",
    "print(\"\\nThe classification report on the train data\\n\", classification_report(y_train, rfc_fn2v.predict(X_train_fn2v)))\n",
    "print(\"\\nThe classification report on the test data\\n\",  classification_report(y_test,  rfc_fn2v.predict(X_test_fn2v)))"
   ]
  },
  {
   "cell_type": "code",
   "execution_count": 34,
   "metadata": {},
   "outputs": [
    {
     "name": "stderr",
     "output_type": "stream",
     "text": [
      "[Parallel(n_jobs=4)]: Using backend ThreadingBackend with 4 concurrent workers.\n",
      "[Parallel(n_jobs=4)]: Done  24 tasks      | elapsed:    0.1s\n",
      "[Parallel(n_jobs=4)]: Done 100 out of 100 | elapsed:    0.3s finished\n",
      "[Parallel(n_jobs=4)]: Using backend ThreadingBackend with 4 concurrent workers.\n",
      "[Parallel(n_jobs=4)]: Done  24 tasks      | elapsed:    0.1s\n",
      "[Parallel(n_jobs=4)]: Done 100 out of 100 | elapsed:    0.4s finished\n",
      "[Parallel(n_jobs=4)]: Using backend ThreadingBackend with 4 concurrent workers.\n",
      "[Parallel(n_jobs=4)]: Done  24 tasks      | elapsed:    0.1s\n",
      "[Parallel(n_jobs=4)]: Done 100 out of 100 | elapsed:    0.3s finished\n"
     ]
    },
    {
     "data": {
      "text/plain": [
       "<sklearn.metrics._plot.roc_curve.RocCurveDisplay at 0x7ff967fd7400>"
      ]
     },
     "execution_count": 34,
     "metadata": {},
     "output_type": "execute_result"
    },
    {
     "data": {
      "image/png": "[encoded data removed]",
      "text/plain": [
       "<Figure size 640x480 with 1 Axes>"
      ]
     },
     "metadata": {},
     "output_type": "display_data"
    }
   ],
   "source": [
    "ax = plt.subplot()\n",
    "\n",
    "RocCurveDisplay.from_estimator(rfc_node2vec, X_test_node2vec, y_test, name=\"node2vec\", ax=ax)\n",
    "RocCurveDisplay.from_estimator(rfc_fairwalk, X_test_fairwalk, y_test, name=\"fairwalk\", ax=ax)\n",
    "RocCurveDisplay.from_estimator(rfc_fn2v, X_test_node2vec, y_test, name=\"fn2v\", ax=ax)"
   ]
  },
  {
   "cell_type": "code",
   "execution_count": 35,
   "metadata": {},
   "outputs": [],
   "source": [
    "test_recommendation_sample_size = 1000\n",
    "test_nodes = rng.choice(np.arange(nodes), test_recommendation_sample_size, replace=False, shuffle=False)"
   ]
  },
  {
   "cell_type": "code",
   "execution_count": 36,
   "metadata": {},
   "outputs": [],
   "source": [
    "pairs_without_edges = np.ones((nodes, nodes))\n",
    "pairs_without_edges[np.diag_indices(nodes)] = 0\n",
    "pairs_without_edges[edges[:,0], edges[:,1]] = 0\n",
    "pairs_without_edges[edges[:,1], edges[:,0]] = 0"
   ]
  },
  {
   "cell_type": "code",
   "execution_count": 37,
   "metadata": {},
   "outputs": [],
   "source": [
    "def get_recommendations(group_of_nodes, estimator, node_embeddings, num_to_keep=100, topk=20):\n",
    "    recommendations = []\n",
    "    \n",
    "    cosine_similarities = cosine_similarity(node_embeddings)\n",
    "\n",
    "    for node in group_of_nodes:\n",
    "        indices_of_not_linked_nodes = np.argwhere(pairs_without_edges[node]>0)\n",
    "        \n",
    "        most_similar_not_linked = indices_of_not_linked_nodes[\n",
    "            np.argsort(cosine_similarities[node][indices_of_not_linked_nodes].squeeze())\n",
    "        ][::-1][:num_to_keep].squeeze()\n",
    "        \n",
    "        candidate_links = np.zeros((num_to_keep,2), dtype=int)\n",
    "        candidate_links[:,0] = node\n",
    "        candidate_links[:,1] = most_similar_not_linked\n",
    "        \n",
    "        embedded_candidate_links = hadamard_embeddings(node_embeddings, candidate_links)\n",
    "        \n",
    "        recommendation_indices = np.argsort(estimator.predict_log_proba(embedded_candidate_links)[:,1])[::-1][:topk]\n",
    "        \n",
    "        recommendations.append(candidate_links[recommendation_indices])\n",
    "        \n",
    "    return recommendations"
   ]
  },
  {
   "cell_type": "code",
   "execution_count": 38,
   "metadata": {},
   "outputs": [],
   "source": [
    "def get_node2vec_recommendations(group_of_nodes):\n",
    "    rfc_node2vec.verbose = False\n",
    "    return get_recommendations(group_of_nodes, rfc_node2vec, node2vec_node_embeddings)\n",
    "\n",
    "def get_fairwalk_recommendations(group_of_nodes):\n",
    "    rfc_fairwalk.verbose = False\n",
    "    return get_recommendations(group_of_nodes, rfc_fairwalk, fairwalk_node_embeddings)\n",
    "\n",
    "def get_fn2v_recommendations(group_of_nodes):\n",
    "    rfc_fn2v.verbose = False\n",
    "    return get_recommendations(group_of_nodes, rfc_fn2v, fn2v_node_embeddings)"
   ]
  },
  {
   "cell_type": "code",
   "execution_count": 39,
   "metadata": {},
   "outputs": [],
   "source": [
    "node2vec_recommendations = get_node2vec_recommendations(test_nodes)\n",
    "fairwalk_recommendations = get_fairwalk_recommendations(test_nodes)\n",
    "fn2v_recommendations = get_fn2v_recommendations(test_nodes)"
   ]
  },
  {
   "cell_type": "markdown",
   "metadata": {},
   "source": [
    "### Evaluating fairness"
   ]
  },
  {
   "cell_type": "code",
   "execution_count": 40,
   "metadata": {},
   "outputs": [],
   "source": [
    "genders = np.loadtxt(\"./graphs/fb_genders\", dtype=int, skiprows=1)"
   ]
  },
  {
   "cell_type": "markdown",
   "metadata": {},
   "source": [
    "Gender 1 is the protected attribute:"
   ]
  },
  {
   "cell_type": "code",
   "execution_count": 41,
   "metadata": {},
   "outputs": [
    {
     "data": {
      "text/plain": [
       "(0.3894528348601139, 0.6105471651398862)"
      ]
     },
     "execution_count": 41,
     "metadata": {},
     "output_type": "execute_result"
    }
   ],
   "source": [
    "protected_gender = 1\n",
    "\n",
    "gender1_nodes = genders[genders[:,1]==1][:,0]\n",
    "gender2_nodes = genders[genders[:,1]==2][:,0]\n",
    "\n",
    "gender1_nodes.size/nodes, gender2_nodes.size/nodes"
   ]
  },
  {
   "cell_type": "code",
   "execution_count": 42,
   "metadata": {},
   "outputs": [],
   "source": [
    "def z_share(gender, recommended_users):\n",
    "    return np.in1d(recommended_users, gender1_nodes if gender==1 else gender2_nodes).sum()/recommended_users.size\n",
    "    \n",
    "def average_z_share(gender, recommendations):\n",
    "    return np.mean([z_share(gender, user_recommendations) for user_recommendations in recommendations])\n",
    "    \n",
    "def user_equality_of_representation(gender, recommendations):\n",
    "    return 0.5 - average_z_share(gender, recommendations)"
   ]
  },
  {
   "cell_type": "markdown",
   "metadata": {},
   "source": [
    "The average z-share of the protected gender"
   ]
  },
  {
   "cell_type": "code",
   "execution_count": 43,
   "metadata": {},
   "outputs": [
    {
     "data": {
      "text/plain": [
       "(0.384, 0.38975, 0.385975)"
      ]
     },
     "execution_count": 43,
     "metadata": {},
     "output_type": "execute_result"
    }
   ],
   "source": [
    "(average_z_share(protected_gender, node2vec_recommendations),\n",
    " average_z_share(protected_gender, fairwalk_recommendations),\n",
    " average_z_share(protected_gender, fn2v_recommendations))"
   ]
  },
  {
   "cell_type": "markdown",
   "metadata": {},
   "source": [
    "The equality of representation of the protected gender"
   ]
  },
  {
   "cell_type": "code",
   "execution_count": 44,
   "metadata": {},
   "outputs": [
    {
     "data": {
      "text/plain": [
       "(0.11599999999999999, 0.11025000000000001, 0.11402499999999999)"
      ]
     },
     "execution_count": 44,
     "metadata": {},
     "output_type": "execute_result"
    }
   ],
   "source": [
    "(user_equality_of_representation(protected_gender, node2vec_recommendations),\n",
    " user_equality_of_representation(protected_gender, fairwalk_recommendations),\n",
    " user_equality_of_representation(protected_gender, fn2v_recommendations))"
   ]
  }
 ],
 "metadata": {
  "kernelspec": {
   "display_name": "Python 3",
   "language": "python",
   "name": "python3"
  },
  "language_info": {
   "codemirror_mode": {
    "name": "ipython",
    "version": 3
   },
   "file_extension": ".py",
   "mimetype": "text/x-python",
   "name": "python",
   "nbconvert_exporter": "python",
   "pygments_lexer": "ipython3",
   "version": "3.10.12"
  }
 },
 "nbformat": 4,
 "nbformat_minor": 2
}
